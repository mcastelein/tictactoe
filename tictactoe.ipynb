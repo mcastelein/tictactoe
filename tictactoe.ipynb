{
 "cells": [
  {
   "cell_type": "markdown",
   "id": "f662f90b",
   "metadata": {},
   "source": [
    "The goal for this program is to be able to play Tic-Tac-Toe\n",
    "To do this we need to have the following steps:\n",
    "- Clear Board\n",
    "- Display game board\n",
    "- Ask player to make a move\n",
    "- Read in move\n",
    "- Insert choice\n",
    "- Check is space is empty\n",
    "- Check if there's a winner or draw\n",
    "- Keep playing the game until there is a winner or draw"
   ]
  },
  {
   "cell_type": "code",
   "execution_count": 72,
   "id": "c8745c7c",
   "metadata": {},
   "outputs": [],
   "source": [
    "def clear_board():\n",
    "    move_list = [\" \",\" \",\" \",\" \",\" \",\" \",\" \",\" \",\" \"]\n",
    "    return move_list"
   ]
  },
  {
   "cell_type": "markdown",
   "id": "af9f1475",
   "metadata": {},
   "source": [
    "Testing if this is working"
   ]
  },
  {
   "cell_type": "code",
   "execution_count": 77,
   "id": "620162de",
   "metadata": {},
   "outputs": [],
   "source": [
    "def check_if_empty(move_list,move):\n",
    "    # results in True if empty\n",
    "    if move_list[move] == \" \":\n",
    "        return True\n",
    "    else:\n",
    "        return False"
   ]
  },
  {
   "cell_type": "code",
   "execution_count": 18,
   "id": "2e6a3095",
   "metadata": {},
   "outputs": [],
   "source": [
    "def display_board(move_list):\n",
    "    print(\" \"+move_list[0]+\" | \"+move_list[1]+\" | \"+move_list[2]+\" \")\n",
    "    print(\" \"+move_list[3]+\" | \"+move_list[4]+\" | \"+move_list[5]+\" \")\n",
    "    print(\" \"+move_list[6]+\" | \"+move_list[7]+\" | \"+move_list[8]+\" \")"
   ]
  },
  {
   "cell_type": "code",
   "execution_count": 101,
   "id": "bbe4a554",
   "metadata": {},
   "outputs": [],
   "source": [
    "def make_move(move_list,player):\n",
    "    \n",
    "    \n",
    "    move_row, move_column = input(player+\" player, in which 'row,column' do you want to place an \"+player+\"?\").split(\",\")\n",
    "    print('')\n",
    "    move_row = int(move_row)\n",
    "    move_column = int(move_column)\n",
    "    \n",
    "    move = (move_row-1)*3+move_column-1\n",
    "    \n",
    "    if check_if_empty(move_list,move):\n",
    "        move_list[move] = player\n",
    "    else:\n",
    "        print('Space is taken')\n",
    "    \n",
    "    display_board(move_list)"
   ]
  },
  {
   "cell_type": "code",
   "execution_count": 85,
   "id": "e088c1ca",
   "metadata": {},
   "outputs": [],
   "source": [
    "def check_if_tie(move_list):\n",
    "    if (move_list[0]!=' ') & (move_list[1]!=' ') & (move_list[2]!=' ') & (move_list[3]!=' ') & (move_list[4]!=' ') & (move_list[5]!=' ') & (move_list[6]!=' ') & (move_list[7]!=' ') & (move_list[8]!=' ') :\n",
    "        return True\n",
    "    else:\n",
    "        return False"
   ]
  },
  {
   "cell_type": "code",
   "execution_count": 57,
   "id": "21d89488",
   "metadata": {},
   "outputs": [],
   "source": [
    "def check_if_win(move_list,player):\n",
    "    # horizontals\n",
    "    if (move_list[0]==player) & (move_list[1]==player) & (move_list[2]==player):\n",
    "        return True\n",
    "    if (move_list[3]==player) & (move_list[4]==player) & (move_list[5]==player):\n",
    "        return True\n",
    "    if (move_list[6]==player) & (move_list[7]==player) & (move_list[8]==player):\n",
    "        return True\n",
    "    \n",
    "    # verticals\n",
    "    if (move_list[0]==player) & (move_list[3]==player) & (move_list[6]==player):\n",
    "        return True\n",
    "    if (move_list[1]==player) & (move_list[4]==player) & (move_list[7]==player):\n",
    "        return True\n",
    "    if (move_list[2]==player) & (move_list[5]==player) & (move_list[8]==player):\n",
    "        return True\n",
    "    \n",
    "    #diagonals\n",
    "    if (move_list[0]==player) & (move_list[4]==player) & (move_list[8]==player):\n",
    "        return True\n",
    "    if (move_list[2]==player) & (move_list[4]==player) & (move_list[6]==player):\n",
    "        return True"
   ]
  },
  {
   "cell_type": "code",
   "execution_count": 102,
   "id": "f797a6fb",
   "metadata": {},
   "outputs": [],
   "source": [
    "def play_tic_tac_toe():\n",
    "    move_list = clear_board()\n",
    "    display_board(move_list)\n",
    "    i=0\n",
    "\n",
    "    while (check_if_win(move_list,\"X\")!=True) & (check_if_win(move_list,\"O\")!=True) & (check_if_tie(move_list)!=True):\n",
    "        if i%2==0:\n",
    "            player=\"X\"\n",
    "        else:\n",
    "            player=\"O\"\n",
    "        \n",
    "        make_move(move_list,player)\n",
    "        i+=1\n",
    "        print('')\n",
    "        \n",
    "    if check_if_win(move_list,\"X\")==True:\n",
    "        print(\"X player wins!\")\n",
    "    elif check_if_win(move_list,\"O\")==True:\n",
    "        print(\"X player wins!\")\n",
    "    elif check_if_tie(move_list)==True:\n",
    "        print(\"There is a draw\")"
   ]
  },
  {
   "cell_type": "code",
   "execution_count": 103,
   "id": "d95fc9a1",
   "metadata": {},
   "outputs": [
    {
     "name": "stdout",
     "output_type": "stream",
     "text": [
      "   |   |   \n",
      "   |   |   \n",
      "   |   |   \n",
      "X player, in which 'row,column' do you want to place an X?1,1\n",
      "\n",
      " X |   |   \n",
      "   |   |   \n",
      "   |   |   \n",
      "\n",
      "O player, in which 'row,column' do you want to place an O?1,2\n",
      "\n",
      " X | O |   \n",
      "   |   |   \n",
      "   |   |   \n",
      "\n",
      "X player, in which 'row,column' do you want to place an X?1,4\n",
      "\n",
      " X | O |   \n",
      " X |   |   \n",
      "   |   |   \n",
      "\n",
      "O player, in which 'row,column' do you want to place an O?1,5\n",
      "\n",
      " X | O |   \n",
      " X | O |   \n",
      "   |   |   \n",
      "\n",
      "X player, in which 'row,column' do you want to place an X?1,7\n",
      "\n",
      " X | O |   \n",
      " X | O |   \n",
      " X |   |   \n",
      "\n",
      "X player wins!\n"
     ]
    }
   ],
   "source": [
    "play_tic_tac_toe()"
   ]
  }
 ],
 "metadata": {
  "kernelspec": {
   "display_name": "Python 3 (ipykernel)",
   "language": "python",
   "name": "python3"
  },
  "language_info": {
   "codemirror_mode": {
    "name": "ipython",
    "version": 3
   },
   "file_extension": ".py",
   "mimetype": "text/x-python",
   "name": "python",
   "nbconvert_exporter": "python",
   "pygments_lexer": "ipython3",
   "version": "3.9.7"
  }
 },
 "nbformat": 4,
 "nbformat_minor": 5
}
